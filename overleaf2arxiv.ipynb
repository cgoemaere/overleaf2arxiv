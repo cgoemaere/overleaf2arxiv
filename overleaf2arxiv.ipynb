{
  "cells": [
    {
      "cell_type": "markdown",
      "metadata": {
        "id": "WXt_UpKiA7A8"
      },
      "source": [
        "# How to preprocess Overleaf files for submission to Arxiv\n",
        "\n",
        "## Step 1: download Overleaf's Arxiv submission zip file\n",
        "Click on 'Submit' in the top right corner, and select Arxiv from the list. Choose 'Download project ZIP with submission files'.\n",
        "\n",
        "## Step 2: upload the zip file to Colab\n",
        "Upload it manually by clicking on the file folder icon on the left, and click on the 'Upload to storage session' button.\n",
        "\n",
        "## Step 3: extract the zip file into a local folder\n",
        "As a little trick, we use *.zip to find any zip file. Here, we assume there is only one zip file in the local folder."
      ]
    },
    {
      "cell_type": "code",
      "execution_count": null,
      "metadata": {
        "colab": {
          "base_uri": "https://localhost:8080/"
        },
        "id": "ai2c4nIuA1gu",
        "outputId": "1d735c10-b142-44cd-d337-918ab341a4aa"
      },
      "outputs": [],
      "source": [
        "!unzip *.zip -d overleaf_source_code"
      ]
    },
    {
      "cell_type": "markdown",
      "metadata": {
        "id": "fdWbQEXZGYTw"
      },
      "source": [
        "## (Optional) Step 4: manually download all svg-inkscape files from Overleaf\n",
        "In Overleaf, go to the 'Logs and output files' tab. On the bottom right, you should see a button 'Other logs and files'. Clicking on this will show you every temporary compile file. From this, click on every single svg-inkscape PDF and `.pdf_tex` to download it, and then manually upload them to the svg-inkscape folder (which is created below)."
      ]
    },
    {
      "cell_type": "code",
      "execution_count": null,
      "metadata": {
        "id": "lpFDhy0JGzzx"
      },
      "outputs": [],
      "source": [
        "!mkdir overleaf_source_code/svg-inkscape"
      ]
    },
    {
      "cell_type": "markdown",
      "metadata": {
        "id": "s2zkEPwxDJIW"
      },
      "source": [
        "## Step 5: install arxiv-latex-cleaner\n",
        "A usefull tool from https://github.com/google-research/arxiv-latex-cleaner"
      ]
    },
    {
      "cell_type": "code",
      "execution_count": null,
      "metadata": {
        "colab": {
          "base_uri": "https://localhost:8080/"
        },
        "id": "eikVSvoTDnhC",
        "outputId": "0c5e341f-82d8-4d5b-f726-48b506aa4e86"
      },
      "outputs": [],
      "source": [
        "!pip install arxiv-latex-cleaner"
      ]
    },
    {
      "cell_type": "markdown",
      "metadata": {
        "id": "wbZzpy2CDsVJ"
      },
      "source": [
        "# Step 6: use arxiv-latex-cleaner to clean your Overleaf folder\n",
        "Note that this code was written for version 1.0.8. Please check for new fancy options in updated versions ;)"
      ]
    },
    {
      "cell_type": "code",
      "execution_count": null,
      "metadata": {
        "colab": {
          "base_uri": "https://localhost:8080/"
        },
        "id": "5JoXl1EPD2Um",
        "outputId": "dfb974e5-2894-4545-b2e3-ae110eb7acd1"
      },
      "outputs": [],
      "source": [
        "!arxiv_latex_cleaner --keep_bib --svg_inkscape --verbose overleaf_source_code"
      ]
    },
    {
      "cell_type": "markdown",
      "metadata": {
        "id": "4K5GUy4OHM1y"
      },
      "source": [
        "## Step 7: compress the output folder into a zip file\n",
        "(the cd is needed, because otherwise, the parent folder itself will also be in the zip)"
      ]
    },
    {
      "cell_type": "code",
      "execution_count": null,
      "metadata": {
        "colab": {
          "base_uri": "https://localhost:8080/"
        },
        "id": "a-kXOqYnHS_4",
        "outputId": "0ca7e1ec-94bf-4613-e547-2e3a9425df17"
      },
      "outputs": [],
      "source": [
        "!cd overleaf_source_code_arXiv; zip -r ../arxiv_submission.zip *"
      ]
    },
    {
      "cell_type": "markdown",
      "metadata": {
        "id": "VJXiJ1UDHZJx"
      },
      "source": [
        "## Step 8: download your zip file and upload it to Arxiv!"
      ]
    },
    {
      "cell_type": "code",
      "execution_count": null,
      "metadata": {
        "id": "GhGrNqnDHdMw"
      },
      "outputs": [],
      "source": []
    }
  ],
  "metadata": {
    "colab": {
      "provenance": []
    },
    "kernelspec": {
      "display_name": "Python 3",
      "name": "python3"
    },
    "language_info": {
      "name": "python"
    }
  },
  "nbformat": 4,
  "nbformat_minor": 0
}
